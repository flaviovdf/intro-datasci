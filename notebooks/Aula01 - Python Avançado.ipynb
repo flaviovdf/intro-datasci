{
 "cells": [
  {
   "cell_type": "markdown",
   "metadata": {},
   "source": [
    "# Python Não Tão Básico\n",
    "\n",
    "Aqui mostraremos alguns recursos mais avançados do Python que são úteis para processar e analisar dados.\n",
    "\n",
    "## Ordenação\n",
    "\n",
    "Todas as listas em Python tem um método `sort` que a ordena. Se você não quiser alterar a sua lista, você pode usar a função `sorted`, que retorna uma lista nova:\n"
   ]
  },
  {
   "cell_type": "code",
   "execution_count": 1,
   "metadata": {},
   "outputs": [
    {
     "name": "stdout",
     "output_type": "stream",
     "text": [
      "[4, 1, 2, 3] -> [1, 2, 3, 4]\n",
      "[1, 2, 3, 4]\n"
     ]
    }
   ],
   "source": [
    "x = [4,1,2,3]\n",
    "y = sorted(x) \n",
    "print(x, '->', y)\n",
    "x.sort() \n",
    "print(x)"
   ]
  },
  {
   "cell_type": "markdown",
   "metadata": {},
   "source": [
    "Por padrão, os métodos `sort` e `sorted` ordenam uma lista do menor elemento para o maior a partir de comparações ingênuas dos elementos entre si.\n",
    "\n",
    "Se você quiser que os elementos sejam ordenados do maior para o menor, você pode especificar o parâmetro `reverse = True`. E em vez de comparar os próprios elementos, você pode comparar os resultados de uma função que você especifica a partir do parâmetro `key`:"
   ]
  },
  {
   "cell_type": "code",
   "execution_count": 2,
   "metadata": {},
   "outputs": [
    {
     "name": "stdout",
     "output_type": "stream",
     "text": [
      "[-4, 3, -2, 1]\n"
     ]
    }
   ],
   "source": [
    "# ordena a lista pelo valor absoluto dos elementos, do maior para o menor\n",
    "x = sorted([-4,1,-2,3], key=abs, reverse=True) \n",
    "print(x)"
   ]
  },
  {
   "cell_type": "markdown",
   "metadata": {},
   "source": [
    "Outro exemplo, para ordenar listas de tuplas:"
   ]
  },
  {
   "cell_type": "code",
   "execution_count": 30,
   "metadata": {},
   "outputs": [
    {
     "name": "stdout",
     "output_type": "stream",
     "text": [
      "[('rose', 3), ('course', 2), ('suppose', 1)]\n"
     ]
    }
   ],
   "source": [
    "word_counts = [('suppose', 1), ('rose', 3), ('course', 2)]\n",
    "\n",
    "# ordena as palavras e contagens da maior para a menor\n",
    "wc = sorted(word_counts,\n",
    "            key=lambda wcs: wcs[1],\n",
    "            reverse=True)\n",
    "\n",
    "print(wc)"
   ]
  },
  {
   "cell_type": "markdown",
   "metadata": {},
   "source": [
    "## Formação de listas\n",
    "\n",
    "Frequentemente, você quer transformar uma lista em outra lista, escolhendo apenas determinados elementos, ou modificando elementos, ou ambos. A maneira pythônica de fazer isso é através de operadores de formação de listas (*list comprehensions*):"
   ]
  },
  {
   "cell_type": "code",
   "execution_count": 31,
   "metadata": {},
   "outputs": [
    {
     "name": "stdout",
     "output_type": "stream",
     "text": [
      "[0, 2, 4]\n",
      "[0, 1, 4, 9, 16]\n",
      "[0, 4, 16]\n"
     ]
    }
   ],
   "source": [
    "even_numbers = [x for x in range(5) if x % 2 == 0]\n",
    "print(even_numbers)\n",
    "\n",
    "squares = [x * x for x in range(5)] \n",
    "print(squares)\n",
    "\n",
    "even_squares = [x * x for x in even_numbers]\n",
    "print(even_squares)"
   ]
  },
  {
   "cell_type": "markdown",
   "metadata": {},
   "source": [
    "Você pode também transformar listas em dicionários ou conjuntos:"
   ]
  },
  {
   "cell_type": "code",
   "execution_count": 32,
   "metadata": {},
   "outputs": [
    {
     "name": "stdout",
     "output_type": "stream",
     "text": [
      "{0: 0, 1: 1, 2: 4, 3: 9, 4: 16}\n",
      "{1}\n"
     ]
    }
   ],
   "source": [
    "square_dict = { x : x * x for x in range(5) } \n",
    "print(square_dict)\n",
    "\n",
    "square_set = { x * x for x in [1, -1] }\n",
    "print(square_set)"
   ]
  },
  {
   "cell_type": "markdown",
   "metadata": {},
   "source": [
    "Se você não precisa dos valores da lista, pode-se usar o *underscore* `_` como a variável:"
   ]
  },
  {
   "cell_type": "code",
   "execution_count": 33,
   "metadata": {},
   "outputs": [
    {
     "name": "stdout",
     "output_type": "stream",
     "text": [
      "[0, 0, 0]\n"
     ]
    }
   ],
   "source": [
    "zeroes = [0 for _ in even_numbers] #mesmo tamanho de even_numbers\n",
    "print(zeroes)"
   ]
  },
  {
   "cell_type": "markdown",
   "metadata": {},
   "source": [
    "A formação de uma lista pode incluir múltiplos `for`s:"
   ]
  },
  {
   "cell_type": "code",
   "execution_count": 34,
   "metadata": {},
   "outputs": [
    {
     "name": "stdout",
     "output_type": "stream",
     "text": [
      "[(0, 0), (0, 1), (0, 2), (1, 0), (1, 1), (1, 2), (2, 0), (2, 1), (2, 2)]\n"
     ]
    }
   ],
   "source": [
    "pairs = [(x, y)\n",
    "         for x in range(3)\n",
    "         for y in range(3)] \n",
    "print(pairs)"
   ]
  },
  {
   "cell_type": "markdown",
   "metadata": {},
   "source": [
    "Os `for`s posteriores podem usar os resultados dos `for`s anteriores:"
   ]
  },
  {
   "cell_type": "code",
   "execution_count": 35,
   "metadata": {
    "scrolled": true
   },
   "outputs": [
    {
     "name": "stdout",
     "output_type": "stream",
     "text": [
      "[(0, 1), (0, 2), (1, 2)]\n"
     ]
    }
   ],
   "source": [
    "#apenas pares em que x < y:\n",
    "increasing_pairs = [(x, y)\n",
    "                    for x in range(3)\n",
    "                    for y in range(x + 1, 3)]\n",
    "print(increasing_pairs)"
   ]
  },
  {
   "cell_type": "markdown",
   "metadata": {},
   "source": [
    "Usaremos muito operações de formação de listas ao longo do curso.\n",
    "\n",
    "## Geradores e Iteradores\n",
    "\n",
    "Um problema com as listas é que elas podem facilmente crescer muito. O comando `range(1000000)` cria uma lista real de 1 milhão de elementos. Se você só precisa de lidar com um elemento de cada vez, isso pode ser uma enorme fonte de ineficiência (ou falta de memória). Ou então, se você potencialmente só precisa dos primeiros valores da lista, então uma lista muito grande é um enorme desperdício.\n",
    "\n",
    "Um gerador (ou *generator*) é algo que você pode iterar sobre ( geralmente usando `for`), mas cujos valores são produzidos apenas conforme necessário (preguiçosamente).\n",
    "\n",
    "Uma maneira de criar geradores é com funções e o operador de `yield`:"
   ]
  },
  {
   "cell_type": "code",
   "execution_count": 37,
   "metadata": {},
   "outputs": [],
   "source": [
    "def lazy_range(n):\n",
    "    \"\"\"a lazy version of range\"\"\"\n",
    "    i = 0\n",
    "    while i < n:\n",
    "        yield i\n",
    "        i += 1"
   ]
  },
  {
   "cell_type": "markdown",
   "metadata": {},
   "source": [
    "O loop seguinte vai consumir os valores lançados (*yielded*) pela função `lazy_range` um de cada vez até que não haja mais elementos para serem lançados:"
   ]
  },
  {
   "cell_type": "code",
   "execution_count": 38,
   "metadata": {},
   "outputs": [
    {
     "name": "stdout",
     "output_type": "stream",
     "text": [
      "what should I do with 0 ?\n",
      "what should I do with 1 ?\n",
      "what should I do with 2 ?\n",
      "what should I do with 3 ?\n",
      "what should I do with 4 ?\n",
      "what should I do with 5 ?\n",
      "what should I do with 6 ?\n",
      "what should I do with 7 ?\n",
      "what should I do with 8 ?\n",
      "what should I do with 9 ?\n"
     ]
    }
   ],
   "source": [
    "def do_something_with(value):\n",
    "    print('what should I do with', value, '?')\n",
    "\n",
    "for i in lazy_range(10):\n",
    "    do_something_with(i)"
   ]
  },
  {
   "cell_type": "markdown",
   "metadata": {},
   "source": [
    "Na verdade, Python 2 tem uma função `lazy_range` chamada `xrange`. Para a nossa sorte, a função `range` do Python 3 já é preguiçosa.\n",
    "\n",
    "Geradores são tão poderosos que você pode criar até uma sequência infinita de números:"
   ]
  },
  {
   "cell_type": "code",
   "execution_count": 48,
   "metadata": {},
   "outputs": [],
   "source": [
    "def natural_numbers():\n",
    "    \"\"\"returns 1, 2, 3, ...\"\"\"\n",
    "    n = 1\n",
    "    while True:\n",
    "        yield n\n",
    "        n += 1"
   ]
  },
  {
   "cell_type": "markdown",
   "metadata": {},
   "source": [
    "O Python 3 já oferece alguns iteradores preguiçosos para produzir loops eficientes. O iterador `count(start, step)` produz números a partir de um valor inicial `start` e com um passo `step` definido como parâmetro (o valor padrão do passo é `1`):"
   ]
  },
  {
   "cell_type": "code",
   "execution_count": 30,
   "metadata": {},
   "outputs": [
    {
     "name": "stdout",
     "output_type": "stream",
     "text": [
      "count(10) com parada aleatória:\n",
      "10 11 12 13 \n",
      "count(1,2) com parada aleatória:\n",
      "1 3 5 7 9 11 13 "
     ]
    }
   ],
   "source": [
    "from random import random\n",
    "from itertools import count\n",
    "\n",
    "print('count(10) com parada aleatória:')\n",
    "for i in count(10):\n",
    "    if random() < 0.8:\n",
    "        print(i, end=\" \")\n",
    "    else:\n",
    "        break\n",
    "        \n",
    "print('\\ncount(1,2) com parada aleatória:')        \n",
    "for i in count(1, 2):\n",
    "    if random() < 0.8:\n",
    "        print(i, end=\" \")\n",
    "    else:\n",
    "        break        "
   ]
  },
  {
   "cell_type": "markdown",
   "metadata": {},
   "source": [
    "Outros iteradores preguiçosos interessantes são o `cycle` e o `repeat:"
   ]
  },
  {
   "cell_type": "code",
   "execution_count": 32,
   "metadata": {},
   "outputs": [
    {
     "name": "stdout",
     "output_type": "stream",
     "text": [
      "cycle('ABCD') com parada aleatória:\n",
      "A B C D A B C D A B C D A B \n",
      "repeat(10,3):\n",
      "10 10 10 "
     ]
    }
   ],
   "source": [
    "from itertools import repeat, cycle\n",
    "print(\"cycle('ABCD') com parada aleatória:\")\n",
    "for letter in cycle('ABCD'):\n",
    "    if random() < 0.95:\n",
    "        print(letter, end=\" \")\n",
    "    else:\n",
    "        break\n",
    "        \n",
    "print(\"\\nrepeat(10,3):\")\n",
    "for i in repeat(10,3):\n",
    "    print(i, end=\" \")"
   ]
  },
  {
   "cell_type": "markdown",
   "metadata": {},
   "source": [
    "Você pode usar a função `islice` para fazer com que os iteradores acima gerem sequências finitas. "
   ]
  },
  {
   "cell_type": "code",
   "execution_count": 38,
   "metadata": {},
   "outputs": [
    {
     "name": "stdout",
     "output_type": "stream",
     "text": [
      "Interrompe a geração de count(10) quando 2 números forem gerados:\n",
      "10 11 \n",
      "Interrompe a geração count(1,3) quando 10 números forem gerados:\n",
      "1 4 7 10 13 16 19 22 25 28 "
     ]
    }
   ],
   "source": [
    "from itertools import count, islice\n",
    "\n",
    "print(\"Interrompe a geração de count(10) quando 2 números forem gerados:\")\n",
    "for number in islice(count(10), 2):\n",
    "    print(number, end=\" \")\n",
    "\n",
    "print(\"\\nInterrompe a geração count(1,3) quando 10 números forem gerados:\")\n",
    "for number in islice(count(1, 3), 10):\n",
    "    print(number, end=\" \")\n",
    "\n",
    "\n"
   ]
  },
  {
   "cell_type": "markdown",
   "metadata": {},
   "source": [
    "Os iteradores acima podem ser usado, por exemplo, em um programa que gera números primos grandes:"
   ]
  },
  {
   "cell_type": "code",
   "execution_count": null,
   "metadata": {},
   "outputs": [],
   "source": [
    "from itertools import count, islice\n",
    "from math import sqrt;\n",
    "        \n",
    "def isPrime(n):\n",
    "    if n < 2: return False\n",
    "    for number in islice(count(2), int(sqrt(n)-1)):\n",
    "        if not n%number:\n",
    "            return False\n",
    "    return True        \n",
    "      \n",
    "maiorPrimo = 1\n",
    "for i in count(1):\n",
    "    if(isPrime(i) and i > 500000):\n",
    "        maiorPrimo = i"
   ]
  },
  {
   "cell_type": "markdown",
   "metadata": {},
   "source": [
    "Execute a célula anterior e a interrompa quando achar que deve. Depois execute a célula abaixo:"
   ]
  },
  {
   "cell_type": "code",
   "execution_count": 2,
   "metadata": {},
   "outputs": [
    {
     "name": "stdout",
     "output_type": "stream",
     "text": [
      "1176911\n"
     ]
    }
   ],
   "source": [
    "print(maiorPrimo)"
   ]
  },
  {
   "cell_type": "markdown",
   "metadata": {},
   "source": [
    "**O outro lado de construir geradores preguiçosos é que você só pode iterar através deles uma única vez. Se precisar de iterar através deles várias vezes, você precisará recriar o gerador a cada vez ou usar uma lista.**\n",
    "\n",
    "Uma segunda maneira de criar geradores é através do uso de formadores `for` agrupados em parênteses:"
   ]
  },
  {
   "cell_type": "code",
   "execution_count": 40,
   "metadata": {},
   "outputs": [
    {
     "name": "stdout",
     "output_type": "stream",
     "text": [
      "0 2 4 6 8 10 12 14 16 18 "
     ]
    }
   ],
   "source": [
    "lazy_evens_below_20 = (i for i in range(20) if i % 2 == 0)\n",
    "for n in lazy_evens_below_20:\n",
    "    print(n, end=\" \")"
   ]
  },
  {
   "cell_type": "markdown",
   "metadata": {},
   "source": [
    "Lembre-se também de que todo `dict` possui um método `items()` que retorna uma lista de seus pares de `(chave, valor)`. Mais frequentemente, usaremos o método `iteritems()`, que preguiçosamente produz os pares `(chave, valor)` um de cada vez enquanto iteramos sobre ele."
   ]
  },
  {
   "cell_type": "markdown",
   "metadata": {},
   "source": [
    "## Aleatoriedade\n",
    "\n",
    "À medida que aprendemos ciência dos dados, a gente precisará, com muita frequência, gerar números aleatórios. Isso pode ser feito com o seguinte módulo:"
   ]
  },
  {
   "cell_type": "code",
   "execution_count": 1,
   "metadata": {},
   "outputs": [
    {
     "name": "stdout",
     "output_type": "stream",
     "text": [
      "[0.8573725154952292, 0.21440155011367423, 0.6182042921011187, 0.7771410287912189]\n"
     ]
    }
   ],
   "source": [
    "import random\n",
    "\n",
    "four_uniform_randoms = [random.random() for _ in range(4)]\n",
    "print(four_uniform_randoms)"
   ]
  },
  {
   "cell_type": "markdown",
   "metadata": {},
   "source": [
    "A função `random.random()` produz números uniformemente distribuídos entre 0 e 1. Usaremos muito essa função ao longo do curso.\n",
    "\n",
    "O módulo `random`, na verdade, produz números pseudo-aleatórios, ou seja, eles dependem de um estado interno (ou semente) que você pode alterar usando `random.seed`. Isso serve para podermos reproduzir (ou repetir) os resultados gerados a partir de códigos que processam sequências de números aleatórios."
   ]
  },
  {
   "cell_type": "code",
   "execution_count": 2,
   "metadata": {},
   "outputs": [
    {
     "name": "stdout",
     "output_type": "stream",
     "text": [
      "primeiro número:  0.5714025946899135\n",
      "segundo número:  0.5714025946899135\n"
     ]
    }
   ],
   "source": [
    "random.seed(10) # atribui 10 à semente\n",
    "print('primeiro número: ', random.random())\n",
    "random.seed(10) # atribui 10 à semente novamente\n",
    "print('segundo número: ', random.random())"
   ]
  },
  {
   "cell_type": "markdown",
   "metadata": {},
   "source": [
    "Iremos usar `random.randrange` as vezes. Essa função recebe 1 ou 2 argumentos e retorna um elemento escolhido aleatoriamente entre o `range()` correspondente:"
   ]
  },
  {
   "cell_type": "code",
   "execution_count": 6,
   "metadata": {},
   "outputs": [
    {
     "name": "stdout",
     "output_type": "stream",
     "text": [
      "7 56\n"
     ]
    }
   ],
   "source": [
    "a = random.randrange(10) # range(10) = 0, 1, ..., 9\n",
    "b = random.randrange(30, 60) # range(3, 6) = 30, 31, ..., 60\n",
    "print(a,b)"
   ]
  },
  {
   "cell_type": "markdown",
   "metadata": {},
   "source": [
    "Existem outros poucos métodos que nós acharemos conveniente usar, como o `random.shuffle`, que rearranja os elementos de uma lista de forma aleatória:"
   ]
  },
  {
   "cell_type": "code",
   "execution_count": 8,
   "metadata": {},
   "outputs": [
    {
     "name": "stdout",
     "output_type": "stream",
     "text": [
      "[3, 4, 5, 6, 1, 8, 9, 7, 0, 2]\n"
     ]
    }
   ],
   "source": [
    "up_to_ten = list(range(10))\n",
    "random.shuffle(up_to_ten)\n",
    "print(up_to_ten)"
   ]
  },
  {
   "cell_type": "markdown",
   "metadata": {},
   "source": [
    "Se você precisa de um elemento aleatório de uma lista você pode usar `random.choice`:"
   ]
  },
  {
   "cell_type": "code",
   "execution_count": 9,
   "metadata": {},
   "outputs": [
    {
     "name": "stdout",
     "output_type": "stream",
     "text": [
      "Alice\n"
     ]
    }
   ],
   "source": [
    "my_best_friend = random.choice([\"Alice\", \"Bob\", \"Charlie\"])\n",
    "print(my_best_friend)"
   ]
  },
  {
   "cell_type": "markdown",
   "metadata": {},
   "source": [
    "Se você precisar escolher uma amostra aleatória de elementos sem reposição, você pode usar `random.sample`:"
   ]
  },
  {
   "cell_type": "code",
   "execution_count": 10,
   "metadata": {},
   "outputs": [
    {
     "name": "stdout",
     "output_type": "stream",
     "text": [
      "[38, 22, 24, 26, 18, 52]\n"
     ]
    }
   ],
   "source": [
    "lottery_numbers = list(range(60))\n",
    "winning_numbers = random.sample(lottery_numbers, 6)\n",
    "print(winning_numbers)"
   ]
  },
  {
   "cell_type": "markdown",
   "metadata": {},
   "source": [
    "Para escolher uma amostra de elementos com reposição você pode fazer chamadas múltiplas para `random.choice`:"
   ]
  },
  {
   "cell_type": "code",
   "execution_count": 15,
   "metadata": {},
   "outputs": [
    {
     "name": "stdout",
     "output_type": "stream",
     "text": [
      "[2, 0, 0, 0]\n"
     ]
    }
   ],
   "source": [
    "four_with_replacement = [random.choice(list(range(3)))\n",
    "                         for _ in range(4)]\n",
    "print(four_with_replacement)"
   ]
  },
  {
   "cell_type": "markdown",
   "metadata": {},
   "source": [
    "## Expressões Regulares\n",
    "\n",
    "Expressões regulares fornecem uma maneira de pesquisar em textos. Elas são incrivelmente úteis, mas também bastante complicadas, tanto que há livros inteiros escritos sobre elas. Vamos explicar seus detalhes nas poucas vezes em que as encontrarmos. \n",
    "\n",
    "Aqui estão alguns exemplos de como usá-las em Python:"
   ]
  },
  {
   "cell_type": "code",
   "execution_count": 11,
   "metadata": {},
   "outputs": [
    {
     "name": "stdout",
     "output_type": "stream",
     "text": [
      "[None, None, ['c', 'r', 's'], 'R-D-']\n"
     ]
    }
   ],
   "source": [
    "import re\n",
    "\n",
    "print([\n",
    "    re.match(\"a\", \"gato\"), # 'gato' não começa com 'a'\n",
    "    re.search(\"c\", \"dog\"), # 'dog' não tem 'c'\n",
    "    re.split(\"[ab]\", \"carbs\"), # usa 'a' e 'b' como separadores de \"carbs\"\n",
    "    re.sub(\"[0-9]\", \"-\", \"R2D2\") # substitui os dígitos por '-'\n",
    "    ])\n"
   ]
  },
  {
   "cell_type": "markdown",
   "metadata": {},
   "source": [
    "## Programação Orientada a Objetos\n",
    "\n",
    "Como muitas linguagens, o Python permite que você defina classes que encapsulem dados e as funções que operam neles. Usaremos elas algumas vezes para tornar nosso código mais limpo e simples. É provavelmente mais simples explicá-las construindo um exemplo altamente anotado.\n",
    "\n",
    "Imagine que não tivéssemos o objeto `set` interno do Python. Então poderíamos querer criar a nossa própria classe `Conjunto`.\n",
    "\n",
    "Qual comportamento que a nossa classe `Conjunto` deveria ter? Dada uma instância de `Conjunto`, precisamos adicionar itens a ela, remover itens dela e verificar se ela contém um determinado valor. Vamos implementar todas essas funcionalidades como funções da classe, o que significa que vamos acessá-las com um ponto depois de um objeto `Conjunto`:"
   ]
  },
  {
   "cell_type": "code",
   "execution_count": 12,
   "metadata": {},
   "outputs": [],
   "source": [
    "# por convenção, daremos nomes no estilo PascalCase\n",
    "class Conjunto:\n",
    "    # essas são as funções da classe\n",
    "    # todas devem ter como primeiro parâmetro o \"self\" (outra convenção),\n",
    "    # que refere-se ao Set particular que está sendo usado\n",
    "\n",
    "    def __init__(self, values=None):\n",
    "        \"\"\"Este é o construtor\n",
    "        Ele é chamado quando você cria um novo Conjunto\n",
    "        Você deve usá-lo da seguinte maneira:\n",
    "        s1 = Conjunto() # conjunto vazio\n",
    "        s2 = Conjunto([1,2,2,3]) # inicia com valores\"\"\"\n",
    "        self.dict = {} # cada instância de Conjunto tem seu próprio dicionário 'dict'\n",
    "        # o dict será usado para registrar se um valor já é membro do conjunto\n",
    "        if values is not None:\n",
    "            for value in values:\n",
    "                self.add(value)\n",
    "\n",
    "    def __repr__(self):\n",
    "        \"\"\"essa é a representação textual (string) do objeto Conjunto\n",
    "        quando você o digitar no prompt do Python ou o enviar para str()\"\"\"\n",
    "        return \"Conjunto: \" + str(self.dict.keys())\n",
    "\n",
    "    # representaremos associação de um valor ao conjunto definindo-o como chave no self.dict do valor True\n",
    "    def add(self, value):\n",
    "        self.dict[value] = True\n",
    "\n",
    "        \n",
    "    # o valor está no conjunto se é uma chave no dicionário\n",
    "    def contains(self, value):\n",
    "        return value in self.dict\n",
    "\n",
    "    def remove(self, value):\n",
    "        del self.dict[value]"
   ]
  },
  {
   "cell_type": "markdown",
   "metadata": {},
   "source": [
    "Podemos usar a classe `Conjunto` da seguinte maneira:"
   ]
  },
  {
   "cell_type": "code",
   "execution_count": 13,
   "metadata": {},
   "outputs": [
    {
     "name": "stdout",
     "output_type": "stream",
     "text": [
      "True\n",
      "False\n"
     ]
    }
   ],
   "source": [
    "s = Conjunto([1,2,3])\n",
    "s.add(4)\n",
    "\n",
    "print(s.contains(4))\n",
    "\n",
    "s.remove(3)\n",
    "print(s.contains(3))"
   ]
  },
  {
   "cell_type": "markdown",
   "metadata": {},
   "source": [
    "## Ferramentas Funcionais\n",
    "\n",
    "Às vezes precisamos de uma função complicada, que requer muitos parâmetros, mas sempre a usamos variando apenas um ou dois parâmetros. Assim, podemos criar novas funções, mais simples, a partir de funções existentes, mais complexas. Como um exemplo simples, imagine que temos uma função de dois parâmetros:"
   ]
  },
  {
   "cell_type": "code",
   "execution_count": 1,
   "metadata": {},
   "outputs": [],
   "source": [
    "def exp(base, power):\n",
    "    return base ** power"
   ]
  },
  {
   "cell_type": "markdown",
   "metadata": {},
   "source": [
    "e queremos usá-la para criar uma função de um parâmetro `dois_elevado_a`, cuja entrada é uma potência e cuja saída é o resultado de `exp(2, power)`.\n",
    "\n",
    "Podemos, claro, fazer isso com `def`, mas às vezes isso pode ficar complicado:"
   ]
  },
  {
   "cell_type": "code",
   "execution_count": null,
   "metadata": {},
   "outputs": [],
   "source": [
    "def dois_elevado_a(power):\n",
    "    return exp(2, power)"
   ]
  },
  {
   "cell_type": "markdown",
   "metadata": {},
   "source": [
    "Uma abordagem diferent é usar `functools.partial`:"
   ]
  },
  {
   "cell_type": "code",
   "execution_count": 7,
   "metadata": {},
   "outputs": [
    {
     "name": "stdout",
     "output_type": "stream",
     "text": [
      "8\n"
     ]
    }
   ],
   "source": [
    "from functools import partial\n",
    "\n",
    "dois_elevado_a = partial(exp, 2) # é agora uma função de um parâmetro\n",
    "print(dois_elevado_a(3))"
   ]
  },
  {
   "cell_type": "markdown",
   "metadata": {},
   "source": [
    "Você pode também usar `partial` para preencher argumentos se você especificar os seus nomes:"
   ]
  },
  {
   "cell_type": "code",
   "execution_count": 9,
   "metadata": {},
   "outputs": [
    {
     "name": "stdout",
     "output_type": "stream",
     "text": [
      "16\n"
     ]
    }
   ],
   "source": [
    "quadrado_de = partial(exp, power=2)\n",
    "print(quadrado_de(4))"
   ]
  },
  {
   "cell_type": "markdown",
   "metadata": {},
   "source": [
    "Começa a ficar confuso se você carregar argumentos no meio da função, então vamos tentar evitar isso.\n",
    "\n",
    "Também usaremos ocasionalmente `map`, `reduce` e `filter`, que fornecem alternativas funcionais para listas:"
   ]
  },
  {
   "cell_type": "code",
   "execution_count": 15,
   "metadata": {},
   "outputs": [
    {
     "name": "stdout",
     "output_type": "stream",
     "text": [
      "1:  [2, 4, 6, 8]\n",
      "2:  [2, 4, 6, 8]\n",
      "3:  [2, 4, 6, 8]\n"
     ]
    }
   ],
   "source": [
    "def double(x):\n",
    "    return 2 * x\n",
    "\n",
    "xs = [1, 2, 3, 4]\n",
    "twice_xs = [double(x) for x in xs] \n",
    "print('1: ', twice_xs)\n",
    "\n",
    "twice_xs = list(map(double, xs)) # same as above\n",
    "print('2: ', twice_xs)\n",
    "\n",
    "list_doubler = partial(map, double) # função que duplica os itens de uma lista\n",
    "twice_xs = list(list_doubler(xs))\n",
    "print('3: ', twice_xs)"
   ]
  },
  {
   "cell_type": "markdown",
   "metadata": {},
   "source": [
    "Você pode usar também `map` com funções de múltiplos argumentos se você prover múltiplas listas:"
   ]
  },
  {
   "cell_type": "code",
   "execution_count": 18,
   "metadata": {},
   "outputs": [
    {
     "name": "stdout",
     "output_type": "stream",
     "text": [
      "[4, 10]\n"
     ]
    }
   ],
   "source": [
    "def multiply(x, y): return x * y\n",
    "\n",
    "products = list(map(multiply, [1, 2], [4, 5])) \n",
    "\n",
    "print(products)"
   ]
  },
  {
   "cell_type": "markdown",
   "metadata": {},
   "source": [
    "De forma similar, `filter` faz o trabalho do `if` em listas:"
   ]
  },
  {
   "cell_type": "code",
   "execution_count": 22,
   "metadata": {},
   "outputs": [
    {
     "name": "stdout",
     "output_type": "stream",
     "text": [
      "1:  [2, 4]\n",
      "2:  [2, 4]\n",
      "3:  [2, 4]\n"
     ]
    }
   ],
   "source": [
    "def is_even(x):\n",
    "    \"\"\"True if x is even, False if x is odd\"\"\"\n",
    "    return x % 2 == 0\n",
    "\n",
    "x_evens = [x for x in xs if is_even(x)] \n",
    "print('1: ', x_evens)\n",
    "\n",
    "x_evens = list(filter(is_even, xs))\n",
    "print('2: ', x_evens)\n",
    "\n",
    "list_evener = partial(filter, is_even)\n",
    "x_evens = list(list_evener(xs)) \n",
    "print('3: ', x_evens)"
   ]
  },
  {
   "cell_type": "markdown",
   "metadata": {},
   "source": [
    "Por fim, `reduce` combina os dois primeiros elementos de uma lista, e depois o resultado disso com o terceiro da lista, e depois o resultado disso com o quarto, e assim por diante, produzindo um único resultado:"
   ]
  },
  {
   "cell_type": "code",
   "execution_count": 26,
   "metadata": {},
   "outputs": [
    {
     "name": "stdout",
     "output_type": "stream",
     "text": [
      "1:  24\n",
      "2:  24\n"
     ]
    }
   ],
   "source": [
    "from functools import reduce\n",
    "\n",
    "x_product = reduce(multiply, xs)\n",
    "print('1: ', x_product)\n",
    "\n",
    "list_product = partial(reduce, multiply) # função que reduz uma lista\n",
    "x_product = list_product(xs)\n",
    "print('2: ', x_product)"
   ]
  },
  {
   "cell_type": "markdown",
   "metadata": {},
   "source": [
    "*Observação importante*: `reduce` foi removido das funções internas do Python 3. É necessário usar, então, `functools.reduce` se você realmente precisar. No entanto, 99% das vezes um loop `for` explícito é mais legível."
   ]
  },
  {
   "cell_type": "markdown",
   "metadata": {},
   "source": [
    "## Enumerar\n",
    "\n",
    "Muitas vezes você vai precisar iterar sobre uma lista e usar tanto o seus valores quanto os seus índices:"
   ]
  },
  {
   "cell_type": "code",
   "execution_count": 4,
   "metadata": {},
   "outputs": [
    {
     "name": "stdout",
     "output_type": "stream",
     "text": [
      "Rumours is He The and in Bagpipers will fell Battle \n",
      "\n",
      "Rumours is He The and in Bagpipers will fell Battle "
     ]
    }
   ],
   "source": [
    "def do_something(pos, word):\n",
    "    if pos%10==0:\n",
    "        print(word, end=\" \")\n",
    "\n",
    "lyric = \"\"\"Rumours know that rebellion will break out\n",
    "Bonnie Prince Charles is in the highlands to claim his\n",
    "crown no doubt\n",
    "He raised his Standart at Glenfinnen calling to our pride\n",
    "The Jacobites are gathering I'll be at their side\n",
    "Armed and ready stand\n",
    "My rights I must defend\n",
    "Steel is in my hand\n",
    "The clan's are marching `gainst the law\n",
    "Bagpipers play the tunes of war\n",
    "Death or glory I will find\n",
    "Rebellion on my mind\n",
    "The town of Edinburgh fell soon in our hands\n",
    "Defeated the English at the Battle of Prestopans\"\"\"\n",
    "\n",
    "words = lyric.split()\n",
    "\n",
    "# não é pythônico\n",
    "for i in range(len(words)):\n",
    "    word = words[i]\n",
    "    do_something(i, word)\n",
    "    \n",
    "print('\\n')\n",
    "\n",
    "# não é pythônico\n",
    "i = 0\n",
    "for word in words:\n",
    "    do_something(i, word)\n",
    "    i += 1"
   ]
  },
  {
   "cell_type": "markdown",
   "metadata": {},
   "source": [
    "A solução pythônica é enumerar (ou `enumerate`), que produz tuplas `(index, element)`:"
   ]
  },
  {
   "cell_type": "code",
   "execution_count": 5,
   "metadata": {},
   "outputs": [
    {
     "name": "stdout",
     "output_type": "stream",
     "text": [
      "Rumours is He The and in Bagpipers will fell Battle "
     ]
    }
   ],
   "source": [
    "for i, word in enumerate(words):\n",
    "    do_something(i, word)"
   ]
  },
  {
   "cell_type": "markdown",
   "metadata": {},
   "source": [
    "Similarmente, se quisermos somente os índices:"
   ]
  },
  {
   "cell_type": "code",
   "execution_count": 12,
   "metadata": {},
   "outputs": [
    {
     "name": "stdout",
     "output_type": "stream",
     "text": [
      "Rumours rebellion will break Bonnie Charles is the claim crown doubt He his at The Jacobites gathering and my clan's `gainst the law play tunes will mind The town fell soon hands Defeated at the of Prestopans \n",
      "\n",
      "Rumours know that rebellion Bonnie Charles highlands to his crown no raised at calling to our pride I'll be at their side and ready My my hand are `gainst law Bagpipers the tunes of on mind The of fell in our Battle of Prestopans "
     ]
    }
   ],
   "source": [
    "from random import random\n",
    "\n",
    "def do_stuff(idx):\n",
    "    if random() < 0.5:\n",
    "        print(words[idx], end=\" \")\n",
    "\n",
    "for i in range(len(words)): do_stuff(i) # não é pythônico\n",
    "\n",
    "print(\"\\n\")\n",
    "\n",
    "for i, _ in enumerate(words): do_stuff(i) # pythônico\n"
   ]
  },
  {
   "cell_type": "markdown",
   "metadata": {},
   "source": [
    "Usaremos muito isso!"
   ]
  },
  {
   "cell_type": "markdown",
   "metadata": {},
   "source": [
    "## zip e desempacotamento de argumentos\n",
    "\n",
    "Frequentemente precisaremos empacotar (`zip`) duas ou mais listas juntas. A função `zip` transforma múltiplas listas em uma lista simples de tuplas dos elementos correspondentes:"
   ]
  },
  {
   "cell_type": "code",
   "execution_count": 17,
   "metadata": {},
   "outputs": [
    {
     "name": "stdout",
     "output_type": "stream",
     "text": [
      "[('a', 1), ('b', 2), ('c', 3)]\n"
     ]
    }
   ],
   "source": [
    "list1 = ['a', 'b', 'c']\n",
    "list2 = [1, 2, 3]\n",
    "list3 = list(zip(list1, list2))\n",
    "print(list3)"
   ]
  },
  {
   "cell_type": "markdown",
   "metadata": {},
   "source": [
    "Se as listas têm tamanhos diferentes, `zip` para assim que a primeira lista terminar.\n",
    "\n",
    "Você pode também descompactar (*unzip*) uma lista usando um truque um tanto quanto estranho:"
   ]
  },
  {
   "cell_type": "code",
   "execution_count": 22,
   "metadata": {},
   "outputs": [
    {
     "name": "stdout",
     "output_type": "stream",
     "text": [
      "('a', 'b', 'c') (1, 2, 3)\n"
     ]
    }
   ],
   "source": [
    "letters, numbers = zip(*list3)\n",
    "print(letters, numbers)"
   ]
  },
  {
   "cell_type": "markdown",
   "metadata": {},
   "source": [
    "O asterisco executa o que chamamos de desempacotamento de argumentos (ou *argument unpacking*), que usa os elementos de `list3` como argumentos individuais para o `zip`. É a mesma coisa que fazer:"
   ]
  },
  {
   "cell_type": "code",
   "execution_count": 24,
   "metadata": {},
   "outputs": [
    {
     "name": "stdout",
     "output_type": "stream",
     "text": [
      "('a', 'b', 'c') (1, 2, 3)\n"
     ]
    }
   ],
   "source": [
    "letters, numbers = zip(('a', 1), ('b', 2), ('c', 3))\n",
    "print(letters, numbers)"
   ]
  },
  {
   "cell_type": "markdown",
   "metadata": {},
   "source": [
    "Você pode usar desempacotamento de argumentos com qualquer função:"
   ]
  },
  {
   "cell_type": "code",
   "execution_count": 26,
   "metadata": {},
   "outputs": [
    {
     "name": "stdout",
     "output_type": "stream",
     "text": [
      "3\n",
      "3\n"
     ]
    }
   ],
   "source": [
    "def add(a, b): return a + b\n",
    "\n",
    "print(add(1, 2))\n",
    "\n",
    "# add([1, 2]) #TypeError\n",
    "\n",
    "print(add(*[1, 2]))\n"
   ]
  },
  {
   "cell_type": "markdown",
   "metadata": {},
   "source": [
    "É raro acharmos isso útil, mas quando o fazemos é um truque legal."
   ]
  },
  {
   "cell_type": "markdown",
   "metadata": {},
   "source": [
    "## args e kwargs\n",
    "\n",
    "Digamos que queremos criar uma função de alta ordem que tome como entrada alguma função `f` e retorne uma nova função que, para qualquer entrada, retorne duas vezes o valor de `f`:"
   ]
  },
  {
   "cell_type": "code",
   "execution_count": 28,
   "metadata": {},
   "outputs": [],
   "source": [
    "def doubler(f):\n",
    "    def g(x):\n",
    "        return 2 * f(x)\n",
    "    return g"
   ]
  },
  {
   "cell_type": "markdown",
   "metadata": {},
   "source": [
    "Isso funciona em alguns casos:"
   ]
  },
  {
   "cell_type": "code",
   "execution_count": 29,
   "metadata": {},
   "outputs": [
    {
     "name": "stdout",
     "output_type": "stream",
     "text": [
      "8\n",
      "0\n"
     ]
    }
   ],
   "source": [
    "def f1(x):\n",
    "    return x + 1\n",
    "\n",
    "g = doubler(f1)\n",
    "print(g(3)) # 8 (== ( 3 + 1) * 2)\n",
    "print(g(-1)) # 0 (== (-1 + 1) * 2)"
   ]
  },
  {
   "cell_type": "markdown",
   "metadata": {},
   "source": [
    "Mas não funciona com funções que levam mais de um único argumento:"
   ]
  },
  {
   "cell_type": "code",
   "execution_count": 31,
   "metadata": {},
   "outputs": [
    {
     "ename": "TypeError",
     "evalue": "g() takes 1 positional argument but 2 were given",
     "output_type": "error",
     "traceback": [
      "\u001b[0;31m---------------------------------------------------------------------------\u001b[0m",
      "\u001b[0;31mTypeError\u001b[0m                                 Traceback (most recent call last)",
      "\u001b[0;32m<ipython-input-31-0a53172dc1e5>\u001b[0m in \u001b[0;36m<module>\u001b[0;34m()\u001b[0m\n\u001b[1;32m      3\u001b[0m \u001b[0;34m\u001b[0m\u001b[0m\n\u001b[1;32m      4\u001b[0m \u001b[0mg\u001b[0m \u001b[0;34m=\u001b[0m \u001b[0mdoubler\u001b[0m\u001b[0;34m(\u001b[0m\u001b[0mf2\u001b[0m\u001b[0;34m)\u001b[0m\u001b[0;34m\u001b[0m\u001b[0m\n\u001b[0;32m----> 5\u001b[0;31m \u001b[0mprint\u001b[0m\u001b[0;34m(\u001b[0m\u001b[0mg\u001b[0m\u001b[0;34m(\u001b[0m\u001b[0;36m1\u001b[0m\u001b[0;34m,\u001b[0m \u001b[0;36m2\u001b[0m\u001b[0;34m)\u001b[0m\u001b[0;34m)\u001b[0m\u001b[0;34m\u001b[0m\u001b[0m\n\u001b[0m",
      "\u001b[0;31mTypeError\u001b[0m: g() takes 1 positional argument but 2 were given"
     ]
    }
   ],
   "source": [
    "def f2(x, y):\n",
    "    return x + y\n",
    "\n",
    "g = doubler(f2)\n",
    "print(g(1, 2))"
   ]
  },
  {
   "cell_type": "markdown",
   "metadata": {},
   "source": [
    "O que precisamos é uma maneira de especificar uma função que aceita argumentos arbitrários. Podemos fazer isso com argumento de desempacotamento e um pouco de mágica:"
   ]
  },
  {
   "cell_type": "code",
   "execution_count": 33,
   "metadata": {},
   "outputs": [
    {
     "name": "stdout",
     "output_type": "stream",
     "text": [
      "unnamed args: (1, 2)\n",
      "keyword args: {'key': 'word', 'key2': 'word2'}\n"
     ]
    }
   ],
   "source": [
    "def magic(*args, **kwargs):\n",
    "    print(\"unnamed args:\", args)\n",
    "    print(\"keyword args:\", kwargs)\n",
    "\n",
    "magic(1, 2, key=\"word\", key2=\"word2\")"
   ]
  },
  {
   "cell_type": "markdown",
   "metadata": {},
   "source": [
    "Ou seja, quando definimos uma função como essa, `args` é uma tupla de seus argumentos sem nome e `kwargs` é um dict de seus argumentos nomeados. Ele funciona de outra maneira também, se você quiser usar uma lista (ou tupla) e dicionário para fornecer argumentos para uma função:"
   ]
  },
  {
   "cell_type": "code",
   "execution_count": 34,
   "metadata": {},
   "outputs": [
    {
     "name": "stdout",
     "output_type": "stream",
     "text": [
      "6\n"
     ]
    }
   ],
   "source": [
    "def other_way_magic(x, y, z):\n",
    "    return x + y + z\n",
    "\n",
    "x_y_list = [1, 2]\n",
    "z_dict = { \"z\" : 3 }\n",
    "print(other_way_magic(*x_y_list, **z_dict))"
   ]
  },
  {
   "cell_type": "markdown",
   "metadata": {},
   "source": [
    "Você pode fazer todo tipo de truques estranhos com isso. Vamos usá-lo apenas para produzir funções de ordem superior cujas entradas podem aceitar argumentos arbitrários:"
   ]
  },
  {
   "cell_type": "code",
   "execution_count": 45,
   "metadata": {},
   "outputs": [
    {
     "name": "stdout",
     "output_type": "stream",
     "text": [
      "6\n"
     ]
    }
   ],
   "source": [
    "## NÃO ENTENDI ISSO AQUI DIREITO:\n",
    "\n",
    "def doubler_correct(f):\n",
    "    \"\"\"funciona com qualquer tipo de argumento\"\"\"\n",
    "    def g(*args, **kwargs):\n",
    "        \"\"\"seja qual for o argumento fornecido a g, passe ele para frente através de f\"\"\"\n",
    "        return 2 * f(*args, **kwargs)\n",
    "    return g\n",
    "\n",
    "g = doubler_correct(f2)\n",
    "print(g(1,2))"
   ]
  },
  {
   "cell_type": "markdown",
   "metadata": {},
   "source": [
    "## Para explorar\n",
    "\n",
    "Não há escassez de tutoriais em Python no mundo. O [oficial](https://docs.python.org/3/tutorial/) não é um mau lugar para começar.\n",
    "\n",
    "O [tutorial oficial do IPython](http://ipython.org/ipython-doc/2/interactive/tutorial.html) não é tão bom. Pode ser melhor assistir a [vídeos e apresentações](http://ipython.org/videos.html). Como alternativa, há o capítulo [*Python for Data Analysis*](http://shop.oreilly.com/product/0636920023784.do) do Wes McKinney (O’Reilly) que é muito bom!"
   ]
  },
  {
   "cell_type": "code",
   "execution_count": null,
   "metadata": {},
   "outputs": [],
   "source": []
  }
 ],
 "metadata": {
  "kernelspec": {
   "display_name": "Python 3",
   "language": "python",
   "name": "python3"
  },
  "language_info": {
   "codemirror_mode": {
    "name": "ipython",
    "version": 3
   },
   "file_extension": ".py",
   "mimetype": "text/x-python",
   "name": "python",
   "nbconvert_exporter": "python",
   "pygments_lexer": "ipython3",
   "version": "3.6.4"
  }
 },
 "nbformat": 4,
 "nbformat_minor": 2
}
