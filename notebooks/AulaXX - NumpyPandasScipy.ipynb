{
 "cells": [
  {
   "cell_type": "markdown",
   "metadata": {},
   "source": [
    "# Pequeno Resumo"
   ]
  },
  {
   "cell_type": "markdown",
   "metadata": {},
   "source": [
    "If/Else"
   ]
  },
  {
   "cell_type": "code",
   "execution_count": 1,
   "metadata": {
    "collapsed": false
   },
   "outputs": [
    {
     "name": "stdout",
     "output_type": "stream",
     "text": [
      "x é par\n"
     ]
    }
   ],
   "source": [
    "x = 4\n",
    "if x % 2 == 0:\n",
    "    print('x é par')\n",
    "else:\n",
    "    print('x é ímpar')"
   ]
  },
  {
   "cell_type": "markdown",
   "metadata": {},
   "source": [
    "laço for"
   ]
  },
  {
   "cell_type": "code",
   "execution_count": 2,
   "metadata": {
    "collapsed": false
   },
   "outputs": [
    {
     "name": "stdout",
     "output_type": "stream",
     "text": [
      "0 1 2 3 4 5 6 7 8 9 10 11 12 13 14 15 16 17 18 19 \n"
     ]
    }
   ],
   "source": [
    "for i in range(20):\n",
    "    print(i, end=' ')\n",
    "print()"
   ]
  },
  {
   "cell_type": "markdown",
   "metadata": {},
   "source": [
    "## 01 - Imports\n",
    "\n",
    "Vamos rapidamente descrever as bibliotecas que utilizaremos. Para quem nunca programou em Python, import é utilizado para carregar uma biblioteca.\n",
    "\n",
    "1. Matplotlib - Plots, gráficos e animações\n",
    "1. Numpy - Matrizes e álgebra linear\n",
    "1. Scipy - Estatística e funções científicas\n",
    "1. Pandas - Tabelas e CSVs"
   ]
  },
  {
   "cell_type": "code",
   "execution_count": 3,
   "metadata": {
    "collapsed": false
   },
   "outputs": [],
   "source": [
    "from scipy import stats as ss\n",
    "\n",
    "import matplotlib.pyplot as plt\n",
    "import numpy as np\n",
    "import pandas as pd\n",
    "\n",
    "plt.ion()"
   ]
  },
  {
   "cell_type": "markdown",
   "metadata": {},
   "source": [
    "## 02 - Números aleatórios e plots"
   ]
  },
  {
   "cell_type": "code",
   "execution_count": 4,
   "metadata": {
    "collapsed": false
   },
   "outputs": [
    {
     "data": {
      "text/plain": [
       "7"
      ]
     },
     "execution_count": 4,
     "metadata": {},
     "output_type": "execute_result"
    }
   ],
   "source": [
    "np.random.randint(10)"
   ]
  },
  {
   "cell_type": "code",
   "execution_count": 5,
   "metadata": {
    "collapsed": false
   },
   "outputs": [
    {
     "data": {
      "text/plain": [
       "4"
      ]
     },
     "execution_count": 5,
     "metadata": {},
     "output_type": "execute_result"
    }
   ],
   "source": [
    "np.random.randint(10)"
   ]
  },
  {
   "cell_type": "code",
   "execution_count": 6,
   "metadata": {
    "collapsed": false
   },
   "outputs": [
    {
     "data": {
      "text/plain": [
       "3"
      ]
     },
     "execution_count": 6,
     "metadata": {},
     "output_type": "execute_result"
    }
   ],
   "source": [
    "np.random.randint(10)"
   ]
  },
  {
   "cell_type": "code",
   "execution_count": 7,
   "metadata": {
    "collapsed": false
   },
   "outputs": [
    {
     "data": {
      "text/plain": [
       "2"
      ]
     },
     "execution_count": 7,
     "metadata": {},
     "output_type": "execute_result"
    }
   ],
   "source": [
    "np.random.randint(10)"
   ]
  },
  {
   "cell_type": "code",
   "execution_count": 8,
   "metadata": {
    "collapsed": false
   },
   "outputs": [
    {
     "data": {
      "text/plain": [
       "array([4, 3, 9, 6, 2, 1, 7, 3, 6, 4, 8, 4, 2, 6, 1, 5, 7, 2, 5, 7, 2, 9, 9,\n",
       "       0, 2, 3, 8, 6, 8, 0, 4, 9, 2, 2, 4, 9, 1, 0, 3, 9, 7, 8, 0, 6, 9, 6,\n",
       "       3, 3, 0, 9, 7, 9, 6, 7, 4, 8, 0, 5, 9, 3, 4, 6, 3, 1, 7, 0, 2, 8, 1,\n",
       "       3, 4, 0, 5, 2, 9, 1, 2, 4, 2, 5, 5, 2, 5, 6, 1, 1, 2, 0, 4, 4, 8, 3,\n",
       "       5, 2, 3, 5, 6, 4, 7, 7])"
      ]
     },
     "execution_count": 8,
     "metadata": {},
     "output_type": "execute_result"
    }
   ],
   "source": [
    "np.random.randint(10, size=100)"
   ]
  },
  {
   "cell_type": "code",
   "execution_count": 9,
   "metadata": {
    "collapsed": false
   },
   "outputs": [
    {
     "data": {
      "text/plain": [
       "<matplotlib.text.Text at 0x10e95ed68>"
      ]
     },
     "execution_count": 9,
     "metadata": {},
     "output_type": "execute_result"
    },
    {
     "data": {
      "image/png": "[encoded data removed]",
      "text/plain": [
       "<matplotlib.figure.Figure at 0x10c6b73c8>"
      ]
     },
     "metadata": {},
     "output_type": "display_data"
    }
   ],
   "source": [
    "x = np.random.normal(size=20000)\n",
    "plt.hist(x, bins=50)\n",
    "plt.xlabel('Valor - x')\n",
    "plt.ylabel('P(x) ~ Normal(0, 1)')"
   ]
  },
  {
   "cell_type": "markdown",
   "metadata": {},
   "source": [
    "## 03 - Olhando distribuições através do scipy"
   ]
  },
  {
   "cell_type": "code",
   "execution_count": 10,
   "metadata": {
    "collapsed": false
   },
   "outputs": [
    {
     "data": {
      "text/plain": [
       "<matplotlib.text.Text at 0x111ddb898>"
      ]
     },
     "execution_count": 10,
     "metadata": {},
     "output_type": "execute_result"
    },
    {
     "data": {
      "image/png": "[encoded data removed]",
      "text/plain": [
       "<matplotlib.figure.Figure at 0x111d8a9e8>"
      ]
     },
     "metadata": {},
     "output_type": "display_data"
    }
   ],
   "source": [
    "normal = ss.distributions.norm(0, 1)\n",
    "xticks = np.unique(x)\n",
    "plt.hist(x, bins=50, normed=True)\n",
    "plt.plot(xticks, normal.pdf(xticks), 'r-')\n",
    "plt.xlabel('Valor - x')\n",
    "plt.ylabel('P(x) ~ Normal(0, 1)')"
   ]
  },
  {
   "cell_type": "markdown",
   "metadata": {},
   "source": [
    "## 04 - Lendo dados\n",
    "\n",
    "Neste repositório existe uma pasta `data/`. A mesma contém diversas tabelas de dados já tratados. A grande maioria foi retirada do livro: https://www.inferentialthinking.com/. Além do repositório: https://github.com/nazareno/ciencia-de-dados-1. Dentro de um notebook, é possível utilizar alguns comandos shell. O `ls` lista o conteúdo de uma pasta."
   ]
  },
  {
   "cell_type": "markdown",
   "metadata": {},
   "source": [
    "Vamos olhar o `nba_salaries.csv`."
   ]
  },
  {
   "cell_type": "code",
   "execution_count": 11,
   "metadata": {
    "collapsed": false
   },
   "outputs": [
    {
     "name": "stdout",
     "output_type": "stream",
     "text": [
      "IV.csv                         hybrid_reg.csv\r\n",
      "actors.csv                     income_small.csv\r\n",
      "airline_ontime.csv             kaiser_ethnicity_children.csv\r\n",
      "anscombe.csv                   kaiser_ethnicity_everyone.csv\r\n",
      "baby.csv                       little_women.csv\r\n",
      "banknote.csv                   married_couples.csv\r\n",
      "birds.csv                      minard.csv\r\n",
      "birth_time.csv                 movies_by_year.csv\r\n",
      "breast-cancer.csv              nba2013.csv\r\n",
      "bta.csv                        nba_salaries.csv\r\n",
      "children_raw.csv               nc-est2014-agesex-res.csv\r\n",
      "ckd.csv                        nc-est2015-agesex-res.csv\r\n",
      "cones.csv                      observed_outcomes.csv\r\n",
      "couples.csv                    potential_outcomes.csv\r\n",
      "deflategate.csv                roulette_wheel.csv\r\n",
      "educ_inc.csv                   san_francisco_2015.csv\r\n",
      "everyone_raw.csv               sat2014.csv\r\n",
      "experimento-lastfm.csv         scores_by_section.csv\r\n",
      "faithful.csv                   shotput.csv\r\n",
      "football.csv                   station.csv\r",
      "\r\n",
      "galton.csv                     top_movies.csv\r\n",
      "galton_subset.csv              trip.csv\r\n",
      "grades_and_piazza.csv          unfair_flips.csv\r\n",
      "heights.csv                    united_summer2015.csv\r\n",
      "hodgkins.csv                   us_women.csv\r\n",
      "house.csv                      usa_ca_2014.csv\r\n",
      "hybrid.csv                     wine.csv\r\n"
     ]
    }
   ],
   "source": [
    "ls data"
   ]
  },
  {
   "cell_type": "markdown",
   "metadata": {},
   "source": [
    "### Lendo o nba_salaries.csv\n",
    "\n",
    "Para ler dados usando a biblioteca pandas basta usarmos a chamada: `pd.read_csv`. Note que o csv está bem organizado, por isso não passamos nenhum argumento extra."
   ]
  },
  {
   "cell_type": "code",
   "execution_count": 12,
   "metadata": {
    "collapsed": false
   },
   "outputs": [],
   "source": [
    "df = pd.read_csv('data/nba_salaries.csv')"
   ]
  },
  {
   "cell_type": "code",
   "execution_count": 13,
   "metadata": {
    "collapsed": false
   },
   "outputs": [
    {
     "data": {
      "text/html": [
       "<div>\n",
       "<table border=\"1\" class=\"dataframe\">\n",
       "  <thead>\n",
       "    <tr style=\"text-align: right;\">\n",
       "      <th></th>\n",
       "      <th>PLAYER</th>\n",
       "      <th>POSITION</th>\n",
       "      <th>TEAM</th>\n",
       "      <th>SALARY</th>\n",
       "    </tr>\n",
       "  </thead>\n",
       "  <tbody>\n",
       "    <tr>\n",
       "      <th>0</th>\n",
       "      <td>Paul Millsap</td>\n",
       "      <td>PF</td>\n",
       "      <td>Atlanta Hawks</td>\n",
       "      <td>18.671659</td>\n",
       "    </tr>\n",
       "    <tr>\n",
       "      <th>1</th>\n",
       "      <td>Al Horford</td>\n",
       "      <td>C</td>\n",
       "      <td>Atlanta Hawks</td>\n",
       "      <td>12.000000</td>\n",
       "    </tr>\n",
       "    <tr>\n",
       "      <th>2</th>\n",
       "      <td>Tiago Splitter</td>\n",
       "      <td>C</td>\n",
       "      <td>Atlanta Hawks</td>\n",
       "      <td>9.756250</td>\n",
       "    </tr>\n",
       "    <tr>\n",
       "      <th>3</th>\n",
       "      <td>Jeff Teague</td>\n",
       "      <td>PG</td>\n",
       "      <td>Atlanta Hawks</td>\n",
       "      <td>8.000000</td>\n",
       "    </tr>\n",
       "    <tr>\n",
       "      <th>4</th>\n",
       "      <td>Kyle Korver</td>\n",
       "      <td>SG</td>\n",
       "      <td>Atlanta Hawks</td>\n",
       "      <td>5.746479</td>\n",
       "    </tr>\n",
       "    <tr>\n",
       "      <th>5</th>\n",
       "      <td>Thabo Sefolosha</td>\n",
       "      <td>SF</td>\n",
       "      <td>Atlanta Hawks</td>\n",
       "      <td>4.000000</td>\n",
       "    </tr>\n",
       "    <tr>\n",
       "      <th>6</th>\n",
       "      <td>Mike Scott</td>\n",
       "      <td>PF</td>\n",
       "      <td>Atlanta Hawks</td>\n",
       "      <td>3.333333</td>\n",
       "    </tr>\n",
       "    <tr>\n",
       "      <th>7</th>\n",
       "      <td>Kent Bazemore</td>\n",
       "      <td>SF</td>\n",
       "      <td>Atlanta Hawks</td>\n",
       "      <td>2.000000</td>\n",
       "    </tr>\n",
       "    <tr>\n",
       "      <th>8</th>\n",
       "      <td>Dennis Schroder</td>\n",
       "      <td>PG</td>\n",
       "      <td>Atlanta Hawks</td>\n",
       "      <td>1.763400</td>\n",
       "    </tr>\n",
       "    <tr>\n",
       "      <th>9</th>\n",
       "      <td>Tim Hardaway Jr.</td>\n",
       "      <td>SG</td>\n",
       "      <td>Atlanta Hawks</td>\n",
       "      <td>1.304520</td>\n",
       "    </tr>\n",
       "    <tr>\n",
       "      <th>10</th>\n",
       "      <td>Walter Tavares</td>\n",
       "      <td>C</td>\n",
       "      <td>Atlanta Hawks</td>\n",
       "      <td>1.000000</td>\n",
       "    </tr>\n",
       "    <tr>\n",
       "      <th>11</th>\n",
       "      <td>Jason Richardson</td>\n",
       "      <td>SG</td>\n",
       "      <td>Atlanta Hawks</td>\n",
       "      <td>0.947276</td>\n",
       "    </tr>\n",
       "    <tr>\n",
       "      <th>12</th>\n",
       "      <td>Lamar Patterson</td>\n",
       "      <td>SG</td>\n",
       "      <td>Atlanta Hawks</td>\n",
       "      <td>0.525093</td>\n",
       "    </tr>\n",
       "    <tr>\n",
       "      <th>13</th>\n",
       "      <td>Terran Petteway</td>\n",
       "      <td>SG</td>\n",
       "      <td>Atlanta Hawks</td>\n",
       "      <td>0.525093</td>\n",
       "    </tr>\n",
       "    <tr>\n",
       "      <th>14</th>\n",
       "      <td>Avery Bradley</td>\n",
       "      <td>PG</td>\n",
       "      <td>Boston Celtics</td>\n",
       "      <td>7.730337</td>\n",
       "    </tr>\n",
       "    <tr>\n",
       "      <th>15</th>\n",
       "      <td>Isaiah Thomas</td>\n",
       "      <td>PG</td>\n",
       "      <td>Boston Celtics</td>\n",
       "      <td>6.912869</td>\n",
       "    </tr>\n",
       "    <tr>\n",
       "      <th>16</th>\n",
       "      <td>Jae Crowder</td>\n",
       "      <td>SF</td>\n",
       "      <td>Boston Celtics</td>\n",
       "      <td>6.796117</td>\n",
       "    </tr>\n",
       "    <tr>\n",
       "      <th>17</th>\n",
       "      <td>Jonas Jerebko</td>\n",
       "      <td>PF</td>\n",
       "      <td>Boston Celtics</td>\n",
       "      <td>5.000000</td>\n",
       "    </tr>\n",
       "    <tr>\n",
       "      <th>18</th>\n",
       "      <td>Marcus Smart</td>\n",
       "      <td>PG</td>\n",
       "      <td>Boston Celtics</td>\n",
       "      <td>3.431040</td>\n",
       "    </tr>\n",
       "    <tr>\n",
       "      <th>19</th>\n",
       "      <td>Evan Turner</td>\n",
       "      <td>SG</td>\n",
       "      <td>Boston Celtics</td>\n",
       "      <td>3.425510</td>\n",
       "    </tr>\n",
       "    <tr>\n",
       "      <th>20</th>\n",
       "      <td>Tyler Zeller</td>\n",
       "      <td>C</td>\n",
       "      <td>Boston Celtics</td>\n",
       "      <td>2.616975</td>\n",
       "    </tr>\n",
       "    <tr>\n",
       "      <th>21</th>\n",
       "      <td>Jared Sullinger</td>\n",
       "      <td>C</td>\n",
       "      <td>Boston Celtics</td>\n",
       "      <td>2.569260</td>\n",
       "    </tr>\n",
       "    <tr>\n",
       "      <th>22</th>\n",
       "      <td>Kelly Olynyk</td>\n",
       "      <td>C</td>\n",
       "      <td>Boston Celtics</td>\n",
       "      <td>2.165160</td>\n",
       "    </tr>\n",
       "    <tr>\n",
       "      <th>23</th>\n",
       "      <td>Perry Jones</td>\n",
       "      <td>SF</td>\n",
       "      <td>Boston Celtics</td>\n",
       "      <td>2.038206</td>\n",
       "    </tr>\n",
       "    <tr>\n",
       "      <th>24</th>\n",
       "      <td>Terry Rozier</td>\n",
       "      <td>PG</td>\n",
       "      <td>Boston Celtics</td>\n",
       "      <td>1.824360</td>\n",
       "    </tr>\n",
       "    <tr>\n",
       "      <th>25</th>\n",
       "      <td>James Young</td>\n",
       "      <td>SG</td>\n",
       "      <td>Boston Celtics</td>\n",
       "      <td>1.749840</td>\n",
       "    </tr>\n",
       "    <tr>\n",
       "      <th>26</th>\n",
       "      <td>Zoran Dragic</td>\n",
       "      <td>SG</td>\n",
       "      <td>Boston Celtics</td>\n",
       "      <td>1.706225</td>\n",
       "    </tr>\n",
       "    <tr>\n",
       "      <th>27</th>\n",
       "      <td>Jordan Mickey</td>\n",
       "      <td>PF</td>\n",
       "      <td>Boston Celtics</td>\n",
       "      <td>1.170960</td>\n",
       "    </tr>\n",
       "    <tr>\n",
       "      <th>28</th>\n",
       "      <td>R.J. Hunter</td>\n",
       "      <td>SG</td>\n",
       "      <td>Boston Celtics</td>\n",
       "      <td>1.148640</td>\n",
       "    </tr>\n",
       "    <tr>\n",
       "      <th>29</th>\n",
       "      <td>Joe Johnson</td>\n",
       "      <td>SF</td>\n",
       "      <td>Brooklyn Nets</td>\n",
       "      <td>24.894863</td>\n",
       "    </tr>\n",
       "    <tr>\n",
       "      <th>...</th>\n",
       "      <td>...</td>\n",
       "      <td>...</td>\n",
       "      <td>...</td>\n",
       "      <td>...</td>\n",
       "    </tr>\n",
       "    <tr>\n",
       "      <th>387</th>\n",
       "      <td>Tibor Pleiss</td>\n",
       "      <td>C</td>\n",
       "      <td>Utah Jazz</td>\n",
       "      <td>2.900000</td>\n",
       "    </tr>\n",
       "    <tr>\n",
       "      <th>388</th>\n",
       "      <td>Trey Burke</td>\n",
       "      <td>PG</td>\n",
       "      <td>Utah Jazz</td>\n",
       "      <td>2.658240</td>\n",
       "    </tr>\n",
       "    <tr>\n",
       "      <th>389</th>\n",
       "      <td>Shelvin Mack</td>\n",
       "      <td>PG</td>\n",
       "      <td>Utah Jazz</td>\n",
       "      <td>2.433333</td>\n",
       "    </tr>\n",
       "    <tr>\n",
       "      <th>390</th>\n",
       "      <td>Trey Lyles</td>\n",
       "      <td>PF</td>\n",
       "      <td>Utah Jazz</td>\n",
       "      <td>2.239800</td>\n",
       "    </tr>\n",
       "    <tr>\n",
       "      <th>391</th>\n",
       "      <td>Joe Ingles</td>\n",
       "      <td>SF</td>\n",
       "      <td>Utah Jazz</td>\n",
       "      <td>2.050000</td>\n",
       "    </tr>\n",
       "    <tr>\n",
       "      <th>392</th>\n",
       "      <td>Rodney Hood</td>\n",
       "      <td>SG</td>\n",
       "      <td>Utah Jazz</td>\n",
       "      <td>1.348440</td>\n",
       "    </tr>\n",
       "    <tr>\n",
       "      <th>393</th>\n",
       "      <td>Rudy Gobert</td>\n",
       "      <td>C</td>\n",
       "      <td>Utah Jazz</td>\n",
       "      <td>1.175880</td>\n",
       "    </tr>\n",
       "    <tr>\n",
       "      <th>394</th>\n",
       "      <td>Chris Johnson</td>\n",
       "      <td>SF</td>\n",
       "      <td>Utah Jazz</td>\n",
       "      <td>0.981348</td>\n",
       "    </tr>\n",
       "    <tr>\n",
       "      <th>395</th>\n",
       "      <td>Grant Jerrett</td>\n",
       "      <td>PF</td>\n",
       "      <td>Utah Jazz</td>\n",
       "      <td>0.947276</td>\n",
       "    </tr>\n",
       "    <tr>\n",
       "      <th>396</th>\n",
       "      <td>Jeff Withey</td>\n",
       "      <td>C</td>\n",
       "      <td>Utah Jazz</td>\n",
       "      <td>0.947276</td>\n",
       "    </tr>\n",
       "    <tr>\n",
       "      <th>397</th>\n",
       "      <td>Raul Neto</td>\n",
       "      <td>PG</td>\n",
       "      <td>Utah Jazz</td>\n",
       "      <td>0.900000</td>\n",
       "    </tr>\n",
       "    <tr>\n",
       "      <th>398</th>\n",
       "      <td>Treveon Graham</td>\n",
       "      <td>SG</td>\n",
       "      <td>Utah Jazz</td>\n",
       "      <td>0.525093</td>\n",
       "    </tr>\n",
       "    <tr>\n",
       "      <th>399</th>\n",
       "      <td>Erick Green</td>\n",
       "      <td>PG</td>\n",
       "      <td>Utah Jazz</td>\n",
       "      <td>0.099418</td>\n",
       "    </tr>\n",
       "    <tr>\n",
       "      <th>400</th>\n",
       "      <td>John Wall</td>\n",
       "      <td>PG</td>\n",
       "      <td>Washington Wizards</td>\n",
       "      <td>15.851950</td>\n",
       "    </tr>\n",
       "    <tr>\n",
       "      <th>401</th>\n",
       "      <td>Nene Hilario</td>\n",
       "      <td>C</td>\n",
       "      <td>Washington Wizards</td>\n",
       "      <td>13.000000</td>\n",
       "    </tr>\n",
       "    <tr>\n",
       "      <th>402</th>\n",
       "      <td>Marcin Gortat</td>\n",
       "      <td>C</td>\n",
       "      <td>Washington Wizards</td>\n",
       "      <td>11.217391</td>\n",
       "    </tr>\n",
       "    <tr>\n",
       "      <th>403</th>\n",
       "      <td>Markieff Morris</td>\n",
       "      <td>PF</td>\n",
       "      <td>Washington Wizards</td>\n",
       "      <td>8.000000</td>\n",
       "    </tr>\n",
       "    <tr>\n",
       "      <th>404</th>\n",
       "      <td>Bradley Beal</td>\n",
       "      <td>SG</td>\n",
       "      <td>Washington Wizards</td>\n",
       "      <td>5.694674</td>\n",
       "    </tr>\n",
       "    <tr>\n",
       "      <th>405</th>\n",
       "      <td>Martell Webster</td>\n",
       "      <td>SF</td>\n",
       "      <td>Washington Wizards</td>\n",
       "      <td>5.613500</td>\n",
       "    </tr>\n",
       "    <tr>\n",
       "      <th>406</th>\n",
       "      <td>Otto Porter Jr.</td>\n",
       "      <td>SF</td>\n",
       "      <td>Washington Wizards</td>\n",
       "      <td>4.662960</td>\n",
       "    </tr>\n",
       "    <tr>\n",
       "      <th>407</th>\n",
       "      <td>Kris Humphries</td>\n",
       "      <td>PF</td>\n",
       "      <td>Washington Wizards</td>\n",
       "      <td>4.440000</td>\n",
       "    </tr>\n",
       "    <tr>\n",
       "      <th>408</th>\n",
       "      <td>Jared Dudley</td>\n",
       "      <td>SF</td>\n",
       "      <td>Washington Wizards</td>\n",
       "      <td>4.375000</td>\n",
       "    </tr>\n",
       "    <tr>\n",
       "      <th>409</th>\n",
       "      <td>Alan Anderson</td>\n",
       "      <td>SG</td>\n",
       "      <td>Washington Wizards</td>\n",
       "      <td>4.000000</td>\n",
       "    </tr>\n",
       "    <tr>\n",
       "      <th>410</th>\n",
       "      <td>Drew Gooden</td>\n",
       "      <td>PF</td>\n",
       "      <td>Washington Wizards</td>\n",
       "      <td>3.300000</td>\n",
       "    </tr>\n",
       "    <tr>\n",
       "      <th>411</th>\n",
       "      <td>Ramon Sessions</td>\n",
       "      <td>PG</td>\n",
       "      <td>Washington Wizards</td>\n",
       "      <td>2.170465</td>\n",
       "    </tr>\n",
       "    <tr>\n",
       "      <th>412</th>\n",
       "      <td>Gary Neal</td>\n",
       "      <td>PG</td>\n",
       "      <td>Washington Wizards</td>\n",
       "      <td>2.139000</td>\n",
       "    </tr>\n",
       "    <tr>\n",
       "      <th>413</th>\n",
       "      <td>DeJuan Blair</td>\n",
       "      <td>C</td>\n",
       "      <td>Washington Wizards</td>\n",
       "      <td>2.000000</td>\n",
       "    </tr>\n",
       "    <tr>\n",
       "      <th>414</th>\n",
       "      <td>Kelly Oubre Jr.</td>\n",
       "      <td>SF</td>\n",
       "      <td>Washington Wizards</td>\n",
       "      <td>1.920240</td>\n",
       "    </tr>\n",
       "    <tr>\n",
       "      <th>415</th>\n",
       "      <td>Garrett Temple</td>\n",
       "      <td>SG</td>\n",
       "      <td>Washington Wizards</td>\n",
       "      <td>1.100602</td>\n",
       "    </tr>\n",
       "    <tr>\n",
       "      <th>416</th>\n",
       "      <td>Jarell Eddie</td>\n",
       "      <td>SG</td>\n",
       "      <td>Washington Wizards</td>\n",
       "      <td>0.561716</td>\n",
       "    </tr>\n",
       "  </tbody>\n",
       "</table>\n",
       "<p>417 rows × 4 columns</p>\n",
       "</div>"
      ],
      "text/plain": [
       "               PLAYER POSITION                TEAM     SALARY\n",
       "0        Paul Millsap       PF       Atlanta Hawks  18.671659\n",
       "1          Al Horford        C       Atlanta Hawks  12.000000\n",
       "2      Tiago Splitter        C       Atlanta Hawks   9.756250\n",
       "3         Jeff Teague       PG       Atlanta Hawks   8.000000\n",
       "4         Kyle Korver       SG       Atlanta Hawks   5.746479\n",
       "5     Thabo Sefolosha       SF       Atlanta Hawks   4.000000\n",
       "6          Mike Scott       PF       Atlanta Hawks   3.333333\n",
       "7       Kent Bazemore       SF       Atlanta Hawks   2.000000\n",
       "8     Dennis Schroder       PG       Atlanta Hawks   1.763400\n",
       "9    Tim Hardaway Jr.       SG       Atlanta Hawks   1.304520\n",
       "10     Walter Tavares        C       Atlanta Hawks   1.000000\n",
       "11   Jason Richardson       SG       Atlanta Hawks   0.947276\n",
       "12    Lamar Patterson       SG       Atlanta Hawks   0.525093\n",
       "13    Terran Petteway       SG       Atlanta Hawks   0.525093\n",
       "14      Avery Bradley       PG      Boston Celtics   7.730337\n",
       "15      Isaiah Thomas       PG      Boston Celtics   6.912869\n",
       "16        Jae Crowder       SF      Boston Celtics   6.796117\n",
       "17      Jonas Jerebko       PF      Boston Celtics   5.000000\n",
       "18       Marcus Smart       PG      Boston Celtics   3.431040\n",
       "19        Evan Turner       SG      Boston Celtics   3.425510\n",
       "20       Tyler Zeller        C      Boston Celtics   2.616975\n",
       "21    Jared Sullinger        C      Boston Celtics   2.569260\n",
       "22       Kelly Olynyk        C      Boston Celtics   2.165160\n",
       "23        Perry Jones       SF      Boston Celtics   2.038206\n",
       "24       Terry Rozier       PG      Boston Celtics   1.824360\n",
       "25        James Young       SG      Boston Celtics   1.749840\n",
       "26       Zoran Dragic       SG      Boston Celtics   1.706225\n",
       "27      Jordan Mickey       PF      Boston Celtics   1.170960\n",
       "28        R.J. Hunter       SG      Boston Celtics   1.148640\n",
       "29        Joe Johnson       SF       Brooklyn Nets  24.894863\n",
       "..                ...      ...                 ...        ...\n",
       "387      Tibor Pleiss        C           Utah Jazz   2.900000\n",
       "388        Trey Burke       PG           Utah Jazz   2.658240\n",
       "389      Shelvin Mack       PG           Utah Jazz   2.433333\n",
       "390        Trey Lyles       PF           Utah Jazz   2.239800\n",
       "391        Joe Ingles       SF           Utah Jazz   2.050000\n",
       "392       Rodney Hood       SG           Utah Jazz   1.348440\n",
       "393       Rudy Gobert        C           Utah Jazz   1.175880\n",
       "394     Chris Johnson       SF           Utah Jazz   0.981348\n",
       "395     Grant Jerrett       PF           Utah Jazz   0.947276\n",
       "396       Jeff Withey        C           Utah Jazz   0.947276\n",
       "397         Raul Neto       PG           Utah Jazz   0.900000\n",
       "398    Treveon Graham       SG           Utah Jazz   0.525093\n",
       "399       Erick Green       PG           Utah Jazz   0.099418\n",
       "400         John Wall       PG  Washington Wizards  15.851950\n",
       "401      Nene Hilario        C  Washington Wizards  13.000000\n",
       "402     Marcin Gortat        C  Washington Wizards  11.217391\n",
       "403   Markieff Morris       PF  Washington Wizards   8.000000\n",
       "404      Bradley Beal       SG  Washington Wizards   5.694674\n",
       "405   Martell Webster       SF  Washington Wizards   5.613500\n",
       "406   Otto Porter Jr.       SF  Washington Wizards   4.662960\n",
       "407    Kris Humphries       PF  Washington Wizards   4.440000\n",
       "408      Jared Dudley       SF  Washington Wizards   4.375000\n",
       "409     Alan Anderson       SG  Washington Wizards   4.000000\n",
       "410       Drew Gooden       PF  Washington Wizards   3.300000\n",
       "411    Ramon Sessions       PG  Washington Wizards   2.170465\n",
       "412         Gary Neal       PG  Washington Wizards   2.139000\n",
       "413      DeJuan Blair        C  Washington Wizards   2.000000\n",
       "414   Kelly Oubre Jr.       SF  Washington Wizards   1.920240\n",
       "415    Garrett Temple       SG  Washington Wizards   1.100602\n",
       "416      Jarell Eddie       SG  Washington Wizards   0.561716\n",
       "\n",
       "[417 rows x 4 columns]"
      ]
     },
     "execution_count": 13,
     "metadata": {},
     "output_type": "execute_result"
    }
   ],
   "source": [
    "df"
   ]
  },
  {
   "cell_type": "markdown",
   "metadata": {},
   "source": [
    "O pandas funciona um pouco como um banco de dados. Temos funções como groupby, sort etc."
   ]
  },
  {
   "cell_type": "code",
   "execution_count": 14,
   "metadata": {
    "collapsed": false
   },
   "outputs": [
    {
     "data": {
      "text/html": [
       "<div>\n",
       "<table border=\"1\" class=\"dataframe\">\n",
       "  <thead>\n",
       "    <tr style=\"text-align: right;\">\n",
       "      <th></th>\n",
       "      <th>SALARY</th>\n",
       "    </tr>\n",
       "    <tr>\n",
       "      <th>POSITION</th>\n",
       "      <th></th>\n",
       "    </tr>\n",
       "  </thead>\n",
       "  <tbody>\n",
       "    <tr>\n",
       "      <th>C</th>\n",
       "      <td>6.082913</td>\n",
       "    </tr>\n",
       "    <tr>\n",
       "      <th>PF</th>\n",
       "      <td>4.951344</td>\n",
       "    </tr>\n",
       "    <tr>\n",
       "      <th>PG</th>\n",
       "      <td>5.165487</td>\n",
       "    </tr>\n",
       "    <tr>\n",
       "      <th>SF</th>\n",
       "      <td>5.532675</td>\n",
       "    </tr>\n",
       "    <tr>\n",
       "      <th>SG</th>\n",
       "      <td>3.988195</td>\n",
       "    </tr>\n",
       "  </tbody>\n",
       "</table>\n",
       "</div>"
      ],
      "text/plain": [
       "            SALARY\n",
       "POSITION          \n",
       "C         6.082913\n",
       "PF        4.951344\n",
       "PG        5.165487\n",
       "SF        5.532675\n",
       "SG        3.988195"
      ]
     },
     "execution_count": 14,
     "metadata": {},
     "output_type": "execute_result"
    }
   ],
   "source": [
    "df[['POSITION', 'SALARY']].groupby('POSITION').mean()"
   ]
  },
  {
   "cell_type": "code",
   "execution_count": 15,
   "metadata": {
    "collapsed": false
   },
   "outputs": [
    {
     "data": {
      "text/html": [
       "<div>\n",
       "<table border=\"1\" class=\"dataframe\">\n",
       "  <thead>\n",
       "    <tr style=\"text-align: right;\">\n",
       "      <th></th>\n",
       "      <th>SALARY</th>\n",
       "    </tr>\n",
       "    <tr>\n",
       "      <th>TEAM</th>\n",
       "      <th></th>\n",
       "    </tr>\n",
       "  </thead>\n",
       "  <tbody>\n",
       "    <tr>\n",
       "      <th>Phoenix Suns</th>\n",
       "      <td>2.971813</td>\n",
       "    </tr>\n",
       "    <tr>\n",
       "      <th>Utah Jazz</th>\n",
       "      <td>3.095993</td>\n",
       "    </tr>\n",
       "    <tr>\n",
       "      <th>Portland Trail Blazers</th>\n",
       "      <td>3.246206</td>\n",
       "    </tr>\n",
       "    <tr>\n",
       "      <th>Philadelphia 76ers</th>\n",
       "      <td>3.267796</td>\n",
       "    </tr>\n",
       "    <tr>\n",
       "      <th>Boston Celtics</th>\n",
       "      <td>3.352367</td>\n",
       "    </tr>\n",
       "    <tr>\n",
       "      <th>Milwaukee Bucks</th>\n",
       "      <td>4.019873</td>\n",
       "    </tr>\n",
       "    <tr>\n",
       "      <th>Detroit Pistons</th>\n",
       "      <td>4.221176</td>\n",
       "    </tr>\n",
       "    <tr>\n",
       "      <th>Toronto Raptors</th>\n",
       "      <td>4.392507</td>\n",
       "    </tr>\n",
       "    <tr>\n",
       "      <th>Brooklyn Nets</th>\n",
       "      <td>4.408229</td>\n",
       "    </tr>\n",
       "    <tr>\n",
       "      <th>Denver Nuggets</th>\n",
       "      <td>4.459243</td>\n",
       "    </tr>\n",
       "    <tr>\n",
       "      <th>Memphis Grizzlies</th>\n",
       "      <td>4.466497</td>\n",
       "    </tr>\n",
       "    <tr>\n",
       "      <th>Charlotte Hornets</th>\n",
       "      <td>4.672355</td>\n",
       "    </tr>\n",
       "    <tr>\n",
       "      <th>Indiana Pacers</th>\n",
       "      <td>4.822694</td>\n",
       "    </tr>\n",
       "    <tr>\n",
       "      <th>Atlanta Hawks</th>\n",
       "      <td>4.969507</td>\n",
       "    </tr>\n",
       "    <tr>\n",
       "      <th>New Orleans Pelicans</th>\n",
       "      <td>5.032163</td>\n",
       "    </tr>\n",
       "    <tr>\n",
       "      <th>Minnesota Timberwolves</th>\n",
       "      <td>5.065186</td>\n",
       "    </tr>\n",
       "    <tr>\n",
       "      <th>Los Angeles Clippers</th>\n",
       "      <td>5.082624</td>\n",
       "    </tr>\n",
       "    <tr>\n",
       "      <th>Washington Wizards</th>\n",
       "      <td>5.296912</td>\n",
       "    </tr>\n",
       "    <tr>\n",
       "      <th>New York Knicks</th>\n",
       "      <td>5.338846</td>\n",
       "    </tr>\n",
       "    <tr>\n",
       "      <th>Orlando Magic</th>\n",
       "      <td>5.544567</td>\n",
       "    </tr>\n",
       "    <tr>\n",
       "      <th>Dallas Mavericks</th>\n",
       "      <td>5.978414</td>\n",
       "    </tr>\n",
       "    <tr>\n",
       "      <th>Oklahoma City Thunder</th>\n",
       "      <td>6.052010</td>\n",
       "    </tr>\n",
       "    <tr>\n",
       "      <th>Sacramento Kings</th>\n",
       "      <td>6.216808</td>\n",
       "    </tr>\n",
       "    <tr>\n",
       "      <th>Los Angeles Lakers</th>\n",
       "      <td>6.237086</td>\n",
       "    </tr>\n",
       "    <tr>\n",
       "      <th>San Antonio Spurs</th>\n",
       "      <td>6.511698</td>\n",
       "    </tr>\n",
       "    <tr>\n",
       "      <th>Chicago Bulls</th>\n",
       "      <td>6.568407</td>\n",
       "    </tr>\n",
       "    <tr>\n",
       "      <th>Golden State Warriors</th>\n",
       "      <td>6.720367</td>\n",
       "    </tr>\n",
       "    <tr>\n",
       "      <th>Miami Heat</th>\n",
       "      <td>6.794056</td>\n",
       "    </tr>\n",
       "    <tr>\n",
       "      <th>Houston Rockets</th>\n",
       "      <td>7.107153</td>\n",
       "    </tr>\n",
       "    <tr>\n",
       "      <th>Cleveland Cavaliers</th>\n",
       "      <td>10.231241</td>\n",
       "    </tr>\n",
       "  </tbody>\n",
       "</table>\n",
       "</div>"
      ],
      "text/plain": [
       "                           SALARY\n",
       "TEAM                             \n",
       "Phoenix Suns             2.971813\n",
       "Utah Jazz                3.095993\n",
       "Portland Trail Blazers   3.246206\n",
       "Philadelphia 76ers       3.267796\n",
       "Boston Celtics           3.352367\n",
       "Milwaukee Bucks          4.019873\n",
       "Detroit Pistons          4.221176\n",
       "Toronto Raptors          4.392507\n",
       "Brooklyn Nets            4.408229\n",
       "Denver Nuggets           4.459243\n",
       "Memphis Grizzlies        4.466497\n",
       "Charlotte Hornets        4.672355\n",
       "Indiana Pacers           4.822694\n",
       "Atlanta Hawks            4.969507\n",
       "New Orleans Pelicans     5.032163\n",
       "Minnesota Timberwolves   5.065186\n",
       "Los Angeles Clippers     5.082624\n",
       "Washington Wizards       5.296912\n",
       "New York Knicks          5.338846\n",
       "Orlando Magic            5.544567\n",
       "Dallas Mavericks         5.978414\n",
       "Oklahoma City Thunder    6.052010\n",
       "Sacramento Kings         6.216808\n",
       "Los Angeles Lakers       6.237086\n",
       "San Antonio Spurs        6.511698\n",
       "Chicago Bulls            6.568407\n",
       "Golden State Warriors    6.720367\n",
       "Miami Heat               6.794056\n",
       "Houston Rockets          7.107153\n",
       "Cleveland Cavaliers     10.231241"
      ]
     },
     "execution_count": 15,
     "metadata": {},
     "output_type": "execute_result"
    }
   ],
   "source": [
    "df[['TEAM', 'SALARY']].groupby('TEAM').mean().sort_values('SALARY')"
   ]
  },
  {
   "cell_type": "code",
   "execution_count": null,
   "metadata": {
    "collapsed": true
   },
   "outputs": [],
   "source": []
  }
 ],
 "metadata": {
  "kernelspec": {
   "display_name": "Python [conda env:anaconda3]",
   "language": "python",
   "name": "conda-env-anaconda3-py"
  },
  "language_info": {
   "codemirror_mode": {
    "name": "ipython",
    "version": 3
   },
   "file_extension": ".py",
   "mimetype": "text/x-python",
   "name": "python",
   "nbconvert_exporter": "python",
   "pygments_lexer": "ipython3",
   "version": "3.5.2"
  }
 },
 "nbformat": 4,
 "nbformat_minor": 2
}
