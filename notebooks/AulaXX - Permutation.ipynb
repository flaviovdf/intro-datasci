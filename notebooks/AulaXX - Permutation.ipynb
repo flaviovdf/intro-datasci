{
 "cells": [
  {
   "cell_type": "code",
   "execution_count": 1,
   "metadata": {
    "collapsed": true
   },
   "outputs": [],
   "source": [
    "from scipy import stats as ss\n",
    "\n",
    "import matplotlib.pyplot as plt\n",
    "import numpy as np\n",
    "import pandas as pd\n",
    "\n",
    "plt.ion()"
   ]
  },
  {
   "cell_type": "markdown",
   "metadata": {},
   "source": [
    "# 1 - Moedas Justa com a Binomial\n",
    "\n",
    "Vamos explorar a probabilidade de uma moeda ser justa usando estatística e amostragem (conceitos não exclusivos).\n",
    "Lembrando, temos um espaço amostral:\n",
    "\n",
    "\\begin{align}\n",
    "\\mathcal{S} &= \\{h, t\\} \\\\\n",
    "P(h) &= 0.5 \\\\\n",
    "P(t) &= 0.5\n",
    "\\end{align}\n"
   ]
  },
  {
   "cell_type": "code",
   "execution_count": 2,
   "metadata": {
    "collapsed": true
   },
   "outputs": [],
   "source": [
    "p = 0.5 # probabilidade de heads/tails\n",
    "n = 30  # temos 33 jogadas"
   ]
  },
  {
   "cell_type": "code",
   "execution_count": 3,
   "metadata": {
    "collapsed": false
   },
   "outputs": [
    {
     "data": {
      "text/plain": [
       "array([ 0,  1,  2,  3,  4,  5,  6,  7,  8,  9, 10, 11, 12, 13, 14, 15, 16,\n",
       "       17, 18, 19, 20, 21, 22, 23, 24, 25, 26, 27, 28, 29, 30])"
      ]
     },
     "execution_count": 3,
     "metadata": {},
     "output_type": "execute_result"
    }
   ],
   "source": [
    "x = np.arange(0, 31)\n",
    "x"
   ]
  },
  {
   "cell_type": "code",
   "execution_count": 4,
   "metadata": {
    "collapsed": false
   },
   "outputs": [
    {
     "data": {
      "text/plain": [
       "<matplotlib.text.Text at 0x10e950dd8>"
      ]
     },
     "execution_count": 4,
     "metadata": {},
     "output_type": "execute_result"
    },
    {
     "data": {
      "image/png": "[encoded data removed]",
      "text/plain": [
       "<matplotlib.figure.Figure at 0x10439fc88>"
      ]
     },
     "metadata": {},
     "output_type": "display_data"
    }
   ],
   "source": [
    "p = 0.5 # probabilidade de heads/tails\n",
    "n = 30  # temos 33 jogadas\n",
    "x = np.arange(0, 31)\n",
    "prob_binom = ss.distributions.binom.pmf(x, n, p)\n",
    "plt.step(x, prob_binom, 'r-')\n",
    "plt.xlabel('Num Caras - x')\n",
    "plt.ylabel('P(sair x caras)')"
   ]
  },
  {
   "cell_type": "code",
   "execution_count": 5,
   "metadata": {
    "collapsed": false
   },
   "outputs": [
    {
     "data": {
      "text/plain": [
       "0.0080624008551239308"
      ]
     },
     "execution_count": 5,
     "metadata": {},
     "output_type": "execute_result"
    }
   ],
   "source": [
    "ss.distributions.binom.pmf(22, n, p) + \\\n",
    "ss.distributions.binom.pmf(23, n, p) + \\\n",
    "ss.distributions.binom.pmf(24, n, p) + \\\n",
    "ss.distributions.binom.pmf(25, n, p) + \\\n",
    "ss.distributions.binom.pmf(26, n, p) + \\\n",
    "ss.distributions.binom.pmf(27, n, p) + \\\n",
    "ss.distributions.binom.pmf(28, n, p) + \\\n",
    "ss.distributions.binom.pmf(29, n, p) + \\\n",
    "ss.distributions.binom.pmf(30, n, p)"
   ]
  },
  {
   "cell_type": "code",
   "execution_count": 6,
   "metadata": {
    "collapsed": false
   },
   "outputs": [
    {
     "data": {
      "text/plain": [
       "array([22, 23, 24, 25, 26, 27, 28, 29, 30])"
      ]
     },
     "execution_count": 6,
     "metadata": {},
     "output_type": "execute_result"
    }
   ],
   "source": [
    "x_extreme = np.arange(22, 31)\n",
    "x_extreme"
   ]
  },
  {
   "cell_type": "code",
   "execution_count": 7,
   "metadata": {
    "collapsed": false
   },
   "outputs": [
    {
     "data": {
      "text/plain": [
       "0.0080624008551239291"
      ]
     },
     "execution_count": 7,
     "metadata": {},
     "output_type": "execute_result"
    }
   ],
   "source": [
    "ss.distributions.binom.pmf(x_extreme, n, p).sum()"
   ]
  },
  {
   "cell_type": "markdown",
   "metadata": {},
   "source": [
    "# 2 - Moedas Justas Simulando\n",
    "\n",
    "Vamos simular sem se preocupar com uma binomial. Só jogar uma moeda para cima várias vezes."
   ]
  },
  {
   "cell_type": "code",
   "execution_count": 8,
   "metadata": {
    "collapsed": false
   },
   "outputs": [
    {
     "data": {
      "text/plain": [
       "0"
      ]
     },
     "execution_count": 8,
     "metadata": {},
     "output_type": "execute_result"
    }
   ],
   "source": [
    "# Jogando uma única moeda\n",
    "np.random.randint(2)"
   ]
  },
  {
   "cell_type": "code",
   "execution_count": 9,
   "metadata": {
    "collapsed": false
   },
   "outputs": [
    {
     "data": {
      "text/plain": [
       "array([0, 0, 1, 0, 1, 0, 0, 1, 1, 0, 1, 0, 1, 1, 1, 0, 1, 0, 1, 1, 0, 0, 1,\n",
       "       1, 0, 1, 1, 0, 1, 1])"
      ]
     },
     "execution_count": 9,
     "metadata": {},
     "output_type": "execute_result"
    }
   ],
   "source": [
    "# Jogando 30 moedas\n",
    "np.random.randint(2, size=30)"
   ]
  },
  {
   "cell_type": "code",
   "execution_count": 10,
   "metadata": {
    "collapsed": false
   },
   "outputs": [
    {
     "name": "stdout",
     "output_type": "stream",
     "text": [
      "0.00824\n"
     ]
    }
   ],
   "source": [
    "NUM_SIMULACOES = 100000\n",
    "resultados = 0\n",
    "n = 30\n",
    "for i in range(NUM_SIMULACOES):\n",
    "    jogadas = np.random.randint(2, size=n) # joga 30 moedas para cima\n",
    "    n_caras = (jogadas == 1).sum()         # conta quantas foram == 1, caras\n",
    "    if n_caras >= 22:\n",
    "        resultados += 1                    # quantas vezes vi >= 22 caras\n",
    "print(resultados / NUM_SIMULACOES)"
   ]
  },
  {
   "cell_type": "markdown",
   "metadata": {},
   "source": [
    "## 3 Caso onde Batman está certo"
   ]
  },
  {
   "cell_type": "code",
   "execution_count": 11,
   "metadata": {
    "collapsed": false
   },
   "outputs": [
    {
     "data": {
      "text/plain": [
       "<matplotlib.text.Text at 0x111caf2b0>"
      ]
     },
     "execution_count": 11,
     "metadata": {},
     "output_type": "execute_result"
    },
    {
     "data": {
      "image/png": "[encoded data removed]",
      "text/plain": [
       "<matplotlib.figure.Figure at 0x10e91ba20>"
      ]
     },
     "metadata": {},
     "output_type": "display_data"
    }
   ],
   "source": [
    "p = 0.9 # probabilidade de heads/tails\n",
    "n = 30  # temos 33 jogadas\n",
    "x = np.arange(0, 31)\n",
    "prob_binom = ss.distributions.binom.pmf(x, n, p)\n",
    "plt.step(x, prob_binom, 'r-')\n",
    "plt.xlabel('Num Caras - x')\n",
    "plt.ylabel('P(sair x caras)')"
   ]
  },
  {
   "cell_type": "code",
   "execution_count": 12,
   "metadata": {
    "collapsed": false
   },
   "outputs": [
    {
     "name": "stdout",
     "output_type": "stream",
     "text": [
      "0.99784\n"
     ]
    }
   ],
   "source": [
    "NUM_SIMULACOES = 100000\n",
    "resultados = 0\n",
    "n = 30\n",
    "for i in range(NUM_SIMULACOES):\n",
    "    jogadas = np.random.rand(30) < 0.9\n",
    "    n_caras = (jogadas == 1).sum()\n",
    "    if n_caras >= 22:\n",
    "        resultados += 1\n",
    "print(resultados / NUM_SIMULACOES)"
   ]
  },
  {
   "cell_type": "markdown",
   "metadata": {},
   "source": [
    "## 4 Tem vezes que precisamos testar a coroa também"
   ]
  },
  {
   "cell_type": "code",
   "execution_count": 13,
   "metadata": {
    "collapsed": false
   },
   "outputs": [
    {
     "data": {
      "text/plain": [
       "<matplotlib.text.Text at 0x111dd5f98>"
      ]
     },
     "execution_count": 13,
     "metadata": {},
     "output_type": "execute_result"
    },
    {
     "data": {
      "image/png": "[encoded data removed]",
      "text/plain": [
       "<matplotlib.figure.Figure at 0x111d7b080>"
      ]
     },
     "metadata": {},
     "output_type": "display_data"
    }
   ],
   "source": [
    "p = 0.2 # probabilidade de heads/tails\n",
    "n = 30  # temos 33 jogadas\n",
    "x = np.arange(0, 31)\n",
    "prob_binom = ss.distributions.binom.pmf(x, n, p)\n",
    "plt.step(x, prob_binom, 'r-')\n",
    "plt.xlabel('Num Caras - x')\n",
    "plt.ylabel('P(sair x caras)')"
   ]
  },
  {
   "cell_type": "code",
   "execution_count": null,
   "metadata": {
    "collapsed": true
   },
   "outputs": [],
   "source": []
  }
 ],
 "metadata": {
  "kernelspec": {
   "display_name": "Python [conda env:anaconda3]",
   "language": "python",
   "name": "conda-env-anaconda3-py"
  },
  "language_info": {
   "codemirror_mode": {
    "name": "ipython",
    "version": 3
   },
   "file_extension": ".py",
   "mimetype": "text/x-python",
   "name": "python",
   "nbconvert_exporter": "python",
   "pygments_lexer": "ipython3",
   "version": "3.5.2"
  }
 },
 "nbformat": 4,
 "nbformat_minor": 2
}
